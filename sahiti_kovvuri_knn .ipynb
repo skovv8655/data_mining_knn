{
 "cells": [
  {
   "cell_type": "markdown",
   "id": "99465999",
   "metadata": {},
   "source": [
    "# Homework # 3 - K-Nearest Neighbor\n",
    "Data file: social_network_ads.csv"
   ]
  },
  {
   "cell_type": "markdown",
   "id": "db03907d",
   "metadata": {},
   "source": [
    "### Import libraries"
   ]
  },
  {
   "cell_type": "code",
   "execution_count": 1,
   "id": "ac51d56f",
   "metadata": {},
   "outputs": [],
   "source": [
    "import numpy as np\n",
    "import pandas as pd\n",
    "import matplotlib.pyplot as plt\n",
    "%matplotlib inline\n",
    "from sklearn.model_selection import train_test_split\n",
    "from sklearn.preprocessing import StandardScaler\n",
    "from sklearn.neighbors import KNeighborsClassifier\n",
    "from sklearn.metrics import confusion_matrix\n",
    "from sklearn.metrics import classification_report"
   ]
  },
  {
   "cell_type": "markdown",
   "id": "4c7ea0c6",
   "metadata": {},
   "source": [
    "### Load data"
   ]
  },
  {
   "cell_type": "code",
   "execution_count": 2,
   "id": "72df8fa1",
   "metadata": {},
   "outputs": [
    {
     "name": "stdout",
     "output_type": "stream",
     "text": [
      "-rw-r--r--@ 1 sahitikovvuri  staff  10926 Oct 31 16:24 social_network_ads.csv\n",
      "User ID,Gender,Age,EstimatedSalary,Purchased\n",
      "15624510,Male,19,19000,0\n",
      "15810944,Male,35,20000,0\n",
      "15668575,Female,26,43000,0\n",
      "15603246,Female,27,57000,0\n",
      "15804002,Male,19,76000,0\n",
      "15728773,Male,27,58000,0\n",
      "15598044,Female,27,84000,0\n",
      "15694829,Female,32,150000,1\n",
      "15600575,Male,25,33000,0\n"
     ]
    }
   ],
   "source": [
    "# Read CSV into dataframe\n",
    "! ls -l 'social_network_ads.csv'\n",
    "! head 'social_network_ads.csv'"
   ]
  },
  {
   "cell_type": "code",
   "execution_count": 3,
   "id": "29c89791",
   "metadata": {},
   "outputs": [],
   "source": [
    "df = pd.read_csv(\"social_network_ads.csv\", sep=',')"
   ]
  },
  {
   "cell_type": "code",
   "execution_count": 4,
   "id": "6fcae04f",
   "metadata": {},
   "outputs": [
    {
     "data": {
      "text/html": [
       "<div>\n",
       "<style scoped>\n",
       "    .dataframe tbody tr th:only-of-type {\n",
       "        vertical-align: middle;\n",
       "    }\n",
       "\n",
       "    .dataframe tbody tr th {\n",
       "        vertical-align: top;\n",
       "    }\n",
       "\n",
       "    .dataframe thead th {\n",
       "        text-align: right;\n",
       "    }\n",
       "</style>\n",
       "<table border=\"1\" class=\"dataframe\">\n",
       "  <thead>\n",
       "    <tr style=\"text-align: right;\">\n",
       "      <th></th>\n",
       "      <th>User ID</th>\n",
       "      <th>Gender</th>\n",
       "      <th>Age</th>\n",
       "      <th>EstimatedSalary</th>\n",
       "      <th>Purchased</th>\n",
       "    </tr>\n",
       "  </thead>\n",
       "  <tbody>\n",
       "    <tr>\n",
       "      <th>0</th>\n",
       "      <td>15624510</td>\n",
       "      <td>Male</td>\n",
       "      <td>19</td>\n",
       "      <td>19000</td>\n",
       "      <td>0</td>\n",
       "    </tr>\n",
       "    <tr>\n",
       "      <th>1</th>\n",
       "      <td>15810944</td>\n",
       "      <td>Male</td>\n",
       "      <td>35</td>\n",
       "      <td>20000</td>\n",
       "      <td>0</td>\n",
       "    </tr>\n",
       "    <tr>\n",
       "      <th>2</th>\n",
       "      <td>15668575</td>\n",
       "      <td>Female</td>\n",
       "      <td>26</td>\n",
       "      <td>43000</td>\n",
       "      <td>0</td>\n",
       "    </tr>\n",
       "    <tr>\n",
       "      <th>3</th>\n",
       "      <td>15603246</td>\n",
       "      <td>Female</td>\n",
       "      <td>27</td>\n",
       "      <td>57000</td>\n",
       "      <td>0</td>\n",
       "    </tr>\n",
       "    <tr>\n",
       "      <th>4</th>\n",
       "      <td>15804002</td>\n",
       "      <td>Male</td>\n",
       "      <td>19</td>\n",
       "      <td>76000</td>\n",
       "      <td>0</td>\n",
       "    </tr>\n",
       "    <tr>\n",
       "      <th>5</th>\n",
       "      <td>15728773</td>\n",
       "      <td>Male</td>\n",
       "      <td>27</td>\n",
       "      <td>58000</td>\n",
       "      <td>0</td>\n",
       "    </tr>\n",
       "  </tbody>\n",
       "</table>\n",
       "</div>"
      ],
      "text/plain": [
       "    User ID  Gender  Age  EstimatedSalary  Purchased\n",
       "0  15624510    Male   19            19000          0\n",
       "1  15810944    Male   35            20000          0\n",
       "2  15668575  Female   26            43000          0\n",
       "3  15603246  Female   27            57000          0\n",
       "4  15804002    Male   19            76000          0\n",
       "5  15728773    Male   27            58000          0"
      ]
     },
     "execution_count": 4,
     "metadata": {},
     "output_type": "execute_result"
    }
   ],
   "source": [
    "# Display first few rows\n",
    "df.head(6)"
   ]
  },
  {
   "cell_type": "markdown",
   "id": "b99259d6",
   "metadata": {},
   "source": [
    "### Drop unnecessary columns 'User ID' and 'Gender'"
   ]
  },
  {
   "cell_type": "code",
   "execution_count": 5,
   "id": "9d2c8839",
   "metadata": {},
   "outputs": [],
   "source": [
    "df.drop(['User ID'], axis = 1, inplace = True)\n",
    "df.drop(['Gender'], axis = 1, inplace = True)"
   ]
  },
  {
   "cell_type": "code",
   "execution_count": 6,
   "id": "51cd788e",
   "metadata": {},
   "outputs": [
    {
     "data": {
      "text/html": [
       "<div>\n",
       "<style scoped>\n",
       "    .dataframe tbody tr th:only-of-type {\n",
       "        vertical-align: middle;\n",
       "    }\n",
       "\n",
       "    .dataframe tbody tr th {\n",
       "        vertical-align: top;\n",
       "    }\n",
       "\n",
       "    .dataframe thead th {\n",
       "        text-align: right;\n",
       "    }\n",
       "</style>\n",
       "<table border=\"1\" class=\"dataframe\">\n",
       "  <thead>\n",
       "    <tr style=\"text-align: right;\">\n",
       "      <th></th>\n",
       "      <th>Age</th>\n",
       "      <th>EstimatedSalary</th>\n",
       "      <th>Purchased</th>\n",
       "    </tr>\n",
       "  </thead>\n",
       "  <tbody>\n",
       "    <tr>\n",
       "      <th>0</th>\n",
       "      <td>19</td>\n",
       "      <td>19000</td>\n",
       "      <td>0</td>\n",
       "    </tr>\n",
       "    <tr>\n",
       "      <th>1</th>\n",
       "      <td>35</td>\n",
       "      <td>20000</td>\n",
       "      <td>0</td>\n",
       "    </tr>\n",
       "    <tr>\n",
       "      <th>2</th>\n",
       "      <td>26</td>\n",
       "      <td>43000</td>\n",
       "      <td>0</td>\n",
       "    </tr>\n",
       "    <tr>\n",
       "      <th>3</th>\n",
       "      <td>27</td>\n",
       "      <td>57000</td>\n",
       "      <td>0</td>\n",
       "    </tr>\n",
       "    <tr>\n",
       "      <th>4</th>\n",
       "      <td>19</td>\n",
       "      <td>76000</td>\n",
       "      <td>0</td>\n",
       "    </tr>\n",
       "    <tr>\n",
       "      <th>5</th>\n",
       "      <td>27</td>\n",
       "      <td>58000</td>\n",
       "      <td>0</td>\n",
       "    </tr>\n",
       "  </tbody>\n",
       "</table>\n",
       "</div>"
      ],
      "text/plain": [
       "   Age  EstimatedSalary  Purchased\n",
       "0   19            19000          0\n",
       "1   35            20000          0\n",
       "2   26            43000          0\n",
       "3   27            57000          0\n",
       "4   19            76000          0\n",
       "5   27            58000          0"
      ]
     },
     "execution_count": 6,
     "metadata": {},
     "output_type": "execute_result"
    }
   ],
   "source": [
    "df.head(6)"
   ]
  },
  {
   "cell_type": "markdown",
   "id": "ad02e9c1",
   "metadata": {},
   "source": [
    "### Explore data"
   ]
  },
  {
   "cell_type": "code",
   "execution_count": 7,
   "id": "61aee3dd",
   "metadata": {},
   "outputs": [
    {
     "name": "stdout",
     "output_type": "stream",
     "text": [
      "The maximum values for the Age and EstimatedSalary columns are:\n",
      " Age                    60\n",
      "EstimatedSalary    150000\n",
      "Purchased               1\n",
      "dtype: int64\n",
      "The minimum values for the Age and EstimatedSalary columns are:\n",
      " Age                   18\n",
      "EstimatedSalary    15000\n",
      "Purchased              0\n",
      "dtype: int64\n"
     ]
    }
   ],
   "source": [
    "# Display distribution (min, max) of values for Age and EstimatedSalary variables\n",
    "print('The maximum values for the Age and EstimatedSalary columns are:\\n' , df.max())\n",
    "print('The minimum values for the Age and EstimatedSalary columns are:\\n' , df.min())"
   ]
  },
  {
   "cell_type": "markdown",
   "id": "170c5847",
   "metadata": {},
   "source": [
    "#### Note the scale for column EstimatedSalary is much higher than for column Age"
   ]
  },
  {
   "cell_type": "markdown",
   "id": "4cdea36d",
   "metadata": {},
   "source": [
    "### Separate independent and dependent variables\n",
    "* Independent variables: All except Purchased\n",
    "* Dependent variable: Purchased"
   ]
  },
  {
   "cell_type": "code",
   "execution_count": 8,
   "id": "bff39409",
   "metadata": {},
   "outputs": [
    {
     "data": {
      "text/html": [
       "<div>\n",
       "<style scoped>\n",
       "    .dataframe tbody tr th:only-of-type {\n",
       "        vertical-align: middle;\n",
       "    }\n",
       "\n",
       "    .dataframe tbody tr th {\n",
       "        vertical-align: top;\n",
       "    }\n",
       "\n",
       "    .dataframe thead th {\n",
       "        text-align: right;\n",
       "    }\n",
       "</style>\n",
       "<table border=\"1\" class=\"dataframe\">\n",
       "  <thead>\n",
       "    <tr style=\"text-align: right;\">\n",
       "      <th></th>\n",
       "      <th>Age</th>\n",
       "      <th>EstimatedSalary</th>\n",
       "    </tr>\n",
       "  </thead>\n",
       "  <tbody>\n",
       "    <tr>\n",
       "      <th>0</th>\n",
       "      <td>19</td>\n",
       "      <td>19000</td>\n",
       "    </tr>\n",
       "    <tr>\n",
       "      <th>1</th>\n",
       "      <td>35</td>\n",
       "      <td>20000</td>\n",
       "    </tr>\n",
       "    <tr>\n",
       "      <th>2</th>\n",
       "      <td>26</td>\n",
       "      <td>43000</td>\n",
       "    </tr>\n",
       "    <tr>\n",
       "      <th>3</th>\n",
       "      <td>27</td>\n",
       "      <td>57000</td>\n",
       "    </tr>\n",
       "    <tr>\n",
       "      <th>4</th>\n",
       "      <td>19</td>\n",
       "      <td>76000</td>\n",
       "    </tr>\n",
       "    <tr>\n",
       "      <th>5</th>\n",
       "      <td>27</td>\n",
       "      <td>58000</td>\n",
       "    </tr>\n",
       "  </tbody>\n",
       "</table>\n",
       "</div>"
      ],
      "text/plain": [
       "   Age  EstimatedSalary\n",
       "0   19            19000\n",
       "1   35            20000\n",
       "2   26            43000\n",
       "3   27            57000\n",
       "4   19            76000\n",
       "5   27            58000"
      ]
     },
     "execution_count": 8,
     "metadata": {},
     "output_type": "execute_result"
    }
   ],
   "source": [
    "# Prepare data for training and testing\n",
    "x = df.iloc[:,0:2]\n",
    "x.head(6)"
   ]
  },
  {
   "cell_type": "code",
   "execution_count": 9,
   "id": "fbb1ff5b",
   "metadata": {},
   "outputs": [
    {
     "data": {
      "text/plain": [
       "0    0\n",
       "1    0\n",
       "2    0\n",
       "3    0\n",
       "4    0\n",
       "5    0\n",
       "Name: Purchased, dtype: int64"
      ]
     },
     "execution_count": 9,
     "metadata": {},
     "output_type": "execute_result"
    }
   ],
   "source": [
    "y = df.iloc[:,2]\n",
    "y.head(6)"
   ]
  },
  {
   "cell_type": "markdown",
   "id": "8f080f68",
   "metadata": {},
   "source": [
    "### Split data into training and test sets"
   ]
  },
  {
   "cell_type": "code",
   "execution_count": 10,
   "id": "91a7e3c3",
   "metadata": {},
   "outputs": [],
   "source": [
    "# Split into training (70%) and test data (30%)\n",
    "\n",
    "x_train, x_test, y_train, y_test = train_test_split(x, y, test_size = 0.3, random_state = 0)"
   ]
  },
  {
   "cell_type": "markdown",
   "id": "09db63e5",
   "metadata": {},
   "source": [
    "### Scale Age and EstimatedSalary variables"
   ]
  },
  {
   "cell_type": "code",
   "execution_count": 11,
   "id": "1d15b86f",
   "metadata": {},
   "outputs": [
    {
     "name": "stdout",
     "output_type": "stream",
     "text": [
      "[[-1.78179743 -1.49004624 -0.74593581]\n",
      " [-0.25358736 -1.46068138 -0.74593581]\n",
      " [-1.11320552 -0.78528968 -0.74593581]\n",
      " ...\n",
      " [ 1.17910958 -1.46068138  1.34059793]\n",
      " [-0.15807423 -1.07893824 -0.74593581]\n",
      " [ 1.08359645 -0.99084367  1.34059793]]\n"
     ]
    }
   ],
   "source": [
    "# Use StandardScaler\n",
    "scaler = StandardScaler()\n",
    "scaler_transform = scaler.fit_transform(df)\n",
    "print(scaler_transform)"
   ]
  },
  {
   "cell_type": "code",
   "execution_count": 12,
   "id": "8f9c766e",
   "metadata": {},
   "outputs": [
    {
     "name": "stdout",
     "output_type": "stream",
     "text": [
      "The maximum values for the Age and EstimatedSalary scaled value columns are:\n",
      " 2.3567499772898386\n",
      "The minimum values for the Age and EstimatedSalary scaled value columns are:\n",
      " -1.8773105578331641\n"
     ]
    }
   ],
   "source": [
    "# Display distribution (min, max) of scaled values for Age and EstimatedSalary variables\n",
    "print('The maximum values for the Age and EstimatedSalary scaled value columns are:\\n' , scaler_transform.max())\n",
    "print('The minimum values for the Age and EstimatedSalary scaled value columns are:\\n' , scaler_transform.min())"
   ]
  },
  {
   "cell_type": "markdown",
   "id": "c493a82a",
   "metadata": {},
   "source": [
    "### Train KNeighborsClassifier (with default hyperparameters)"
   ]
  },
  {
   "cell_type": "code",
   "execution_count": 13,
   "id": "8dc7f744",
   "metadata": {},
   "outputs": [
    {
     "data": {
      "text/plain": [
       "KNeighborsClassifier(metric='euclidean')"
      ]
     },
     "execution_count": 13,
     "metadata": {},
     "output_type": "execute_result"
    }
   ],
   "source": [
    "# Defaults: n_neighbors=5, weights='uniform' metric='Euclidean'\n",
    "knn = KNeighborsClassifier(n_neighbors = 5, weights = 'uniform', metric = \"euclidean\")\n",
    "knn.fit(x_train, y_train)"
   ]
  },
  {
   "cell_type": "markdown",
   "id": "a8b14a0f",
   "metadata": {},
   "source": [
    "### Evaulate model performance"
   ]
  },
  {
   "cell_type": "code",
   "execution_count": 14,
   "id": "b8096f38",
   "metadata": {},
   "outputs": [
    {
     "data": {
      "text/plain": [
       "array([0, 0, 0, 0, 0, 0, 0, 1, 0, 0, 0, 0, 0, 1, 0, 1, 0, 0, 1, 0, 0, 1,\n",
       "       0, 1, 0, 1, 0, 0, 0, 0, 1, 0, 0, 0, 0, 0, 0, 0, 1, 1, 1, 0, 0, 0,\n",
       "       1, 0, 0, 1, 0, 0, 1, 1, 0, 0, 1, 0, 0, 0, 1, 0, 0, 0, 0, 1, 1, 0,\n",
       "       0, 0, 0, 1, 1, 0, 0, 1, 0, 0, 0, 0, 1, 1, 1, 0, 0, 1, 1, 0, 0, 1,\n",
       "       0, 0, 0, 1, 0, 0, 0, 1, 0, 1, 1, 1, 1, 1, 0, 1, 1, 1, 0, 0, 0, 0,\n",
       "       1, 0, 0, 0, 1, 0, 1, 0, 0, 0])"
      ]
     },
     "execution_count": 14,
     "metadata": {},
     "output_type": "execute_result"
    }
   ],
   "source": [
    "# Predict using the Test set results\n",
    "y_predict = knn.predict(x_test)\n",
    "y_predict"
   ]
  },
  {
   "cell_type": "code",
   "execution_count": 15,
   "id": "dcf02df2",
   "metadata": {},
   "outputs": [
    {
     "name": "stdout",
     "output_type": "stream",
     "text": [
      "[[68 11]\n",
      " [11 30]]\n"
     ]
    }
   ],
   "source": [
    "# Display the Confusion Matrix\n",
    "cf_matrix = confusion_matrix(y_test, y_predict)\n",
    "print(cf_matrix)"
   ]
  },
  {
   "cell_type": "code",
   "execution_count": 16,
   "id": "5407f211",
   "metadata": {},
   "outputs": [
    {
     "name": "stdout",
     "output_type": "stream",
     "text": [
      "The accuracy of test set is 81.66666666666667\n"
     ]
    }
   ],
   "source": [
    "# Generate and print model performance metrics (accuracy) on test set\n",
    "from sklearn.metrics import accuracy_score\n",
    "\n",
    "y_pred=knn.predict(x_test)\n",
    "print(\"The accuracy of test set is\", accuracy_score(y_test, y_pred) * 100)"
   ]
  },
  {
   "cell_type": "code",
   "execution_count": 17,
   "id": "8b059469",
   "metadata": {},
   "outputs": [
    {
     "name": "stdout",
     "output_type": "stream",
     "text": [
      "              precision    recall  f1-score   support\n",
      "\n",
      "           0       0.86      0.86      0.86        79\n",
      "           1       0.73      0.73      0.73        41\n",
      "\n",
      "    accuracy                           0.82       120\n",
      "   macro avg       0.80      0.80      0.80       120\n",
      "weighted avg       0.82      0.82      0.82       120\n",
      "\n"
     ]
    }
   ],
   "source": [
    "# Generate classification report to evaluate the model\n",
    "print(classification_report(y_test, y_pred))"
   ]
  },
  {
   "cell_type": "markdown",
   "id": "e9e735f4",
   "metadata": {},
   "source": [
    "### Train KNeighborsClassifier (change hyperparameter: n_neighbors)"
   ]
  },
  {
   "cell_type": "code",
   "execution_count": 18,
   "id": "efadbe02",
   "metadata": {},
   "outputs": [
    {
     "data": {
      "text/plain": [
       "KNeighborsClassifier(metric='euclidean', n_neighbors=9)"
      ]
     },
     "execution_count": 18,
     "metadata": {},
     "output_type": "execute_result"
    }
   ],
   "source": [
    "# Defaults: n_neighbors=5, weights='uniform' metric='Euclidean'\n",
    "knn = KNeighborsClassifier(n_neighbors = 9, weights = 'uniform', metric = \"euclidean\")\n",
    "knn.fit(x_train, y_train)"
   ]
  },
  {
   "cell_type": "markdown",
   "id": "ab3525b0",
   "metadata": {},
   "source": [
    "### Evaulate model performance"
   ]
  },
  {
   "cell_type": "code",
   "execution_count": 19,
   "id": "c6ec4dd4",
   "metadata": {},
   "outputs": [
    {
     "data": {
      "text/plain": [
       "array([0, 0, 0, 0, 0, 0, 0, 1, 0, 0, 0, 0, 0, 0, 0, 1, 0, 0, 1, 0, 0, 1,\n",
       "       0, 1, 0, 1, 0, 0, 0, 0, 1, 0, 0, 0, 0, 0, 0, 0, 1, 1, 1, 0, 0, 0,\n",
       "       1, 0, 0, 1, 0, 0, 1, 0, 0, 1, 1, 0, 0, 0, 0, 0, 0, 0, 0, 1, 0, 0,\n",
       "       0, 0, 0, 0, 1, 0, 0, 1, 0, 0, 0, 0, 1, 1, 1, 0, 0, 1, 1, 0, 0, 1,\n",
       "       0, 0, 0, 1, 0, 0, 0, 1, 0, 1, 1, 1, 0, 1, 0, 1, 1, 1, 0, 0, 0, 0,\n",
       "       0, 0, 0, 0, 1, 0, 1, 0, 0, 0])"
      ]
     },
     "execution_count": 19,
     "metadata": {},
     "output_type": "execute_result"
    }
   ],
   "source": [
    "# Predict using the Test set results\n",
    "y_pred = knn.predict(x_test)\n",
    "y_pred"
   ]
  },
  {
   "cell_type": "code",
   "execution_count": 20,
   "id": "01c2ae5f",
   "metadata": {
    "scrolled": true
   },
   "outputs": [
    {
     "name": "stdout",
     "output_type": "stream",
     "text": [
      "[[73  6]\n",
      " [12 29]]\n"
     ]
    }
   ],
   "source": [
    "# Display the Confusion Matrix\n",
    "cf_matrix = confusion_matrix(y_test, y_pred)\n",
    "print(cf_matrix)"
   ]
  },
  {
   "cell_type": "code",
   "execution_count": 21,
   "id": "f3a6a1b2",
   "metadata": {},
   "outputs": [
    {
     "name": "stdout",
     "output_type": "stream",
     "text": [
      "The accuracy of the test set is 85.0\n"
     ]
    }
   ],
   "source": [
    "# Generate and print model performance metrics (accuracy) on test set\n",
    "y_pred = knn.predict(x_test)\n",
    "print(\"The accuracy of the test set is\", accuracy_score(y_test, y_pred) * 100)"
   ]
  },
  {
   "cell_type": "code",
   "execution_count": 22,
   "id": "9e0ee6ee",
   "metadata": {},
   "outputs": [
    {
     "name": "stdout",
     "output_type": "stream",
     "text": [
      "              precision    recall  f1-score   support\n",
      "\n",
      "           0       0.86      0.92      0.89        79\n",
      "           1       0.83      0.71      0.76        41\n",
      "\n",
      "    accuracy                           0.85       120\n",
      "   macro avg       0.84      0.82      0.83       120\n",
      "weighted avg       0.85      0.85      0.85       120\n",
      "\n"
     ]
    }
   ],
   "source": [
    "# Generate classification report to evaluate the model\n",
    "print(classification_report(y_test, y_pred))"
   ]
  }
 ],
 "metadata": {
  "kernelspec": {
   "display_name": "Python 3",
   "language": "python",
   "name": "python3"
  },
  "language_info": {
   "codemirror_mode": {
    "name": "ipython",
    "version": 3
   },
   "file_extension": ".py",
   "mimetype": "text/x-python",
   "name": "python",
   "nbconvert_exporter": "python",
   "pygments_lexer": "ipython3",
   "version": "3.8.8"
  }
 },
 "nbformat": 4,
 "nbformat_minor": 5
}
